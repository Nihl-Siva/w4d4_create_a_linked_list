{
 "cells": [
  {
   "cell_type": "markdown",
   "metadata": {},
   "source": [
    "# Time/Space Complexity - Intro to Data Structures (User Defined)\n",
    "\n",
    "### Topics to discuss today:\n",
    "\n",
    "<ul>\n",
    "    <li>Time and Space Complexity - What is it/How do we measure it</li>\n",
    "    <li>Asymptotic Analysis</li>\n",
    "    <li><strong>Data Structures</strong></li>\n",
    "    <li>Some of the popular sorting algorithms</li>\n",
    "</ul>\n",
    "\n",
    "### Data Structures to discuss:\n",
    "- Arrays\n",
    "- Stacks\n",
    "- Queues\n",
    "- Linked Lists\n",
    "    - Singly Linked Lists\n",
    "    - Traversing A Linked List\n",
    "    - Finding a node in a linked list\n",
    "    - Adding to a linked list\n"
   ]
  },
  {
   "cell_type": "markdown",
   "metadata": {},
   "source": [
    "## Time and Space Complexity\n",
    "\n",
    "#### What is it?\n",
    "\n",
    "Time and space complexity is the measure of how much time a given action(function) will take to solve a problem. In the same fashion, we determine how much a given data structure will need in terms of memory allocation. A problem can have multiple solutions and finding the optimal solution for the problem needs to be analyzed in time and space.\n",
    "\n",
    "#### How do we measure Time and Space Complexity?\n",
    "\n",
    "In order to measure time and space complexity we use Asymptotic analysis. The reason for this is because we need a way to measure different algorithms (functions) based on the size of their inputs in a mathmatical way. For example, we could have a function that is computed as f(n) and another that is g(n^2). All things around the function staying constant, the only thing that changes is the size of the input. Below is the chart that shows the different Asymptotic analysis formats. "
   ]
  },
  {
   "cell_type": "markdown",
   "metadata": {},
   "source": [
    "<table style=\"text-align:center;\" class=\"table table-bordered\">\n",
    "<tbody><tr>\n",
    "<td>constant</td>\n",
    "<td>−</td>\n",
    "<td>Ο(1)</td>\n",
    "</tr>\n",
    "<tr>\n",
    "<td>logarithmic</td>\n",
    "<td>−</td>\n",
    "<td>Ο(log n)</td>\n",
    "</tr>\n",
    "<tr>\n",
    "<td>linear</td>\n",
    "<td>−</td>\n",
    "<td>Ο(n)</td>\n",
    "</tr>\n",
    "<tr>\n",
    "<td>Linear Logarithmic</td>\n",
    "<td>−</td>\n",
    "<td>Ο(n log n)</td>\n",
    "</tr>\n",
    "<tr>\n",
    "<td>quadratic</td>\n",
    "<td>−</td>\n",
    "<td>Ο(n<sup>2</sup>)</td>\n",
    "</tr>\n",
    "<tr>\n",
    "<td>cubic</td>\n",
    "<td>−</td>\n",
    "<td>Ο(n<sup>3</sup>)</td>\n",
    "</tr>\n",
    "<tr>\n",
    "<td>polynomial</td>\n",
    "<td>−</td>\n",
    "<td>n<sup>Ο(1)</sup></td>\n",
    "</tr>\n",
    "<tr>\n",
    "<td>exponential</td>\n",
    "<td>−</td>\n",
    "<td>2<sup>Ο(n)</sup></td>\n",
    "</tr>\n",
    "</tbody></table>"
   ]
  },
  {
   "cell_type": "code",
   "execution_count": null,
   "metadata": {},
   "outputs": [],
   "source": [
    "# Constant time O(1)\n",
    "def add_nums(num1, num2):\n",
    "    return num1 + num2\n",
    "\n",
    "# O(log n)\n",
    "# Binary Search\n",
    "# breaking a list down into smaller parts and searching for an index\n",
    "def binarySearchHelperFunction(array, target, left, right):\n",
    "    while left <= right:\n",
    "        middle = (left + right) // 2\n",
    "        potentialMatch = array[middle]\n",
    "        if target == potentialMatch:\n",
    "            return f\"The index is...{middle}\"\n",
    "        elif target < potentialMatch:\n",
    "            right = middle - 1\n",
    "        else:\n",
    "            left = middle + 1\n",
    "    return -1\n",
    "\n",
    "def binarySearch(array,target):\n",
    "    return binarySearchHelperFunction(array,target,0, len(array) - 1)\n",
    "\n",
    "binarySearch([22,44,55,66,88,100],44)\n",
    "\n",
    "# O(n)\n",
    "# time increases with the number of inputs\n",
    "arr = [1, 2, 3, 4, 5]\n",
    "for x in arr:\n",
    "    print(x)\n",
    "    \n",
    "# Linear Logarthimic O(n log n)\n",
    "# Merge Sort\n",
    "# .sort()\n",
    "# sorted()\n",
    "\n",
    "# Quadratic O(n^2)\n",
    "# Any nested linear operations will be quadratic\n",
    "# 2 loops nested inside eah other \n",
    "arr_2 = [6, 7, 8, 9, 10, 11, 12]\n",
    "for x in arr:\n",
    "    for y in arr2:\n",
    "        print(x, y)\n",
    "        \n",
    "# Cub O(n^3)\n",
    "# Any triply nested linear operations will be cubic\n",
    "arr_3 = [1, 5, 3, 6, 4, 12]\n",
    "for x in arr:\n",
    "    for y in arr_2:\n",
    "        if x in arr_3 and y in arr_3:\n",
    "            print(x,y)\n",
    "            \n",
    "# The more nested operations you have, the more time/space complexity goes up \n",
    "# (to polynomial and exponential, etc).\n"
   ]
  },
  {
   "cell_type": "markdown",
   "metadata": {},
   "source": [
    "## Arrays"
   ]
  },
  {
   "cell_type": "markdown",
   "metadata": {},
   "source": [
    "In python we benefit from the dynamic array which means the block of memory will expand as needed for the given input to the array. In traditional arrays (depending on the type of operating system) we will usually store our inputs in 4 or 8 consecutive blocks of memory. Below is a diagram of how that looks under the hood:\n",
    "\n",
    "<img src=\"http://www.mathcs.emory.edu/~cheung/Courses/170/Syllabus/09/FIGS/array02x.gif\" style=\"height:250px; width:350px;\">"
   ]
  },
  {
   "cell_type": "markdown",
   "metadata": {},
   "source": [
    "## Which in python looks like this:"
   ]
  },
  {
   "cell_type": "code",
   "execution_count": null,
   "metadata": {},
   "outputs": [],
   "source": []
  },
  {
   "cell_type": "markdown",
   "metadata": {},
   "source": [
    "### Let's take a look at some of the time and space analysis of arrays"
   ]
  },
  {
   "cell_type": "code",
   "execution_count": 4,
   "metadata": {},
   "outputs": [
    {
     "name": "stdout",
     "output_type": "stream",
     "text": [
      "It's here\n",
      "[1, 2, 3, 4, 5]\n",
      "[1, 2, 3, 4, 5]\n"
     ]
    }
   ],
   "source": [
    "# Indexing an Array (list)\n",
    "# Constant Time and Space\n",
    "# arr[i]\n",
    "my_list = [1,2,3,4,5]\n",
    "my_num = my_list[3]\n",
    "\n",
    "#Searching through an array\n",
    "#Linear Time O(n) and constant space O(1)\n",
    "if 4 in my_list:\n",
    "    print(\"It's here\")\n",
    "    \n",
    "    \n",
    "#Copying an array\n",
    "# Linear Time O(n) Linear Space O(n)\n",
    "my_list_copy = my_list[:]\n",
    "print(my_list_copy)\n",
    "\n",
    "# Similar to:\n",
    "empty_list = []\n",
    "for num in my_list:\n",
    "    empty_list.append(num)\n",
    "print(empty_list)\n",
    "\n",
    "#Setting an index\n",
    "# Constant Time O(1) and Constant Space O(1)\n"
   ]
  },
  {
   "cell_type": "markdown",
   "metadata": {},
   "source": [
    "# Attmept the Code Wars problem at the following link:\n",
    "https://www.codewars.com/kata/5ce399e0047a45001c853c2b\n"
   ]
  },
  {
   "cell_type": "code",
   "execution_count": 6,
   "metadata": {},
   "outputs": [
    {
     "data": {
      "text/plain": [
       "[20, 20, 19, 16, 10, 0]"
      ]
     },
     "execution_count": 6,
     "metadata": {},
     "output_type": "execute_result"
    }
   ],
   "source": [
    "# Alex's Solution\n",
    "def sum_parts(arr):\n",
    "    \n",
    "    result = [sum(arr)]\n",
    "    for num in arr:\n",
    "        result.append(result[-1]- num)\n",
    "        \n",
    "    return result\n",
    "\n",
    "sum_parts([0, 1, 3, 6, 10])"
   ]
  },
  {
   "cell_type": "code",
   "execution_count": 5,
   "metadata": {},
   "outputs": [
    {
     "data": {
      "text/plain": [
       "[20, 20, 19, 16, 10, 0]"
      ]
     },
     "execution_count": 5,
     "metadata": {},
     "output_type": "execute_result"
    }
   ],
   "source": [
    "# Mohammed's Solution\n",
    "def parts_sums(ls):\n",
    "    arr = []\n",
    "    sum = 0\n",
    "    for i in ls:\n",
    "        sum += i\n",
    "    arr.append(sum)\n",
    "    for i in range(len(ls)):\n",
    "        sum -= ls[i]\n",
    "        arr.append(sum)\n",
    "    return arr\n",
    "parts_sums([0, 1, 3, 6, 10])"
   ]
  },
  {
   "cell_type": "code",
   "execution_count": 7,
   "metadata": {},
   "outputs": [
    {
     "data": {
      "text/plain": [
       "[20, 20, 19, 16, 10, 0]"
      ]
     },
     "execution_count": 7,
     "metadata": {},
     "output_type": "execute_result"
    }
   ],
   "source": [
    "# John's Solution\n",
    "def parts_sums(ls):\n",
    "    arr = []\n",
    "    total = 0\n",
    "    for i in ls:\n",
    "        total += i\n",
    "    arr.append(total)\n",
    "    for i in range(len(ls)):\n",
    "        total -= ls[i]\n",
    "        arr.append(total)\n",
    "    return arr\n",
    "parts_sums([0, 1, 3, 6, 10])"
   ]
  },
  {
   "cell_type": "markdown",
   "metadata": {},
   "source": [
    "## Stacks and Queues\n",
    "\n",
    "** Stacks ** as the name suggests is a data structure that allows for data to follow the Last In First Out priciple(LIFO). Think of a stack of pancakes for example. To get the first pancake you would  start with the top and go down.\n",
    "\n",
    "##### Searching through a stack will be Linear Time O(n) - Constant Space O(1)\n",
    "##### Selecting the last item will be done in Constant Time O(1) - Constant Space O(1)\n",
    "##### Adding to the stack should take Constant Time O(1) - Constant Space O(1)\n",
    "\n",
    "** Queues ** are similar but in this case follow the First In First Out principle(FIFO). Think of this as a line in a black friday sale. The first person camped out for the big screen tv is the first to get it.\n",
    "\n",
    "##### Searching through a queue will be Linear Time O(n) - Constant Space O(1)\n",
    "##### Selecting the first item will be done in Constant Time O(1) - Constant Space O(1)\n",
    "##### Adding to the queue should take Constant Time O(1) - Constant Space O(1)"
   ]
  },
  {
   "cell_type": "code",
   "execution_count": 1,
   "metadata": {},
   "outputs": [
    {
     "name": "stdout",
     "output_type": "stream",
     "text": [
      "['pancake1']\n",
      "['pancake1', 'pancake2']\n",
      "['pancake1', 'pancake2', 'pancake3']\n",
      "['pancake1', 'pancake2', 'pancake3', 'pancake4']\n",
      "pancake4\n",
      "['pancake1', 'pancake2', 'pancake3']\n",
      "pancake3\n",
      "['pancake1', 'pancake2']\n",
      "pancake2\n",
      "['pancake1']\n"
     ]
    }
   ],
   "source": [
    "# Stacks\n",
    "stack = ['pancake1']\n",
    "print(stack)\n",
    "stack.append('pancake2')\n",
    "print(stack)\n",
    "stack.append('pancake3')\n",
    "print(stack)\n",
    "stack.append('pancake4')\n",
    "print(stack)\n",
    "print(stack.pop())\n",
    "print(stack)\n",
    "print(stack.pop())\n",
    "print(stack)\n",
    "print(stack.pop())\n",
    "print(stack)"
   ]
  },
  {
   "cell_type": "code",
   "execution_count": 2,
   "metadata": {},
   "outputs": [
    {
     "name": "stdout",
     "output_type": "stream",
     "text": [
      "['shopper']\n",
      "['shopper', 'shopper2']\n",
      "['shopper', 'shopper2', 'shopper3']\n",
      "['shopper', 'shopper2', 'shopper3', 'shopper4']\n",
      "shopper\n",
      "['shopper2', 'shopper3', 'shopper4']\n",
      "shopper2\n",
      "['shopper3', 'shopper4']\n",
      "shopper3\n",
      "['shopper4']\n"
     ]
    }
   ],
   "source": [
    "#queue\n",
    "queue = [\"shopper\"]\n",
    "print(queue)\n",
    "queue.append('shopper2')\n",
    "print(queue)\n",
    "queue.append('shopper3')\n",
    "print(queue)\n",
    "queue.append('shopper4')\n",
    "print(queue)\n",
    "print(queue.pop(0))\n",
    "print(queue)\n",
    "print(queue.pop(0))\n",
    "print(queue)\n",
    "print(queue.pop(0))\n",
    "print(queue)"
   ]
  },
  {
   "cell_type": "code",
   "execution_count": 4,
   "metadata": {},
   "outputs": [
    {
     "name": "stdout",
     "output_type": "stream",
     "text": [
      "deque(['pancake3', 'pancake2', 'pancake1'])\n",
      "deque(['pancake2', 'pancake1'])\n",
      "deque(['pancake1'])\n",
      "\n",
      "\n",
      "deque(['shopper1'])\n",
      "deque(['shopper2', 'shopper1'])\n",
      "deque(['shopper3', 'shopper2', 'shopper1'])\n",
      "deque(['shopper4', 'shopper3', 'shopper2', 'shopper1'])\n",
      "shopper1\n",
      "deque(['shopper4', 'shopper3', 'shopper2'])\n",
      "shopper2\n",
      "deque(['shopper4', 'shopper3'])\n",
      "shopper3\n",
      "deque(['shopper4'])\n"
     ]
    }
   ],
   "source": [
    "from collections import deque\n",
    "\n",
    "stack = deque()\n",
    "\n",
    "dir(queue)\n",
    "\n",
    "#Stack \n",
    "#first pancake in, last pancake out\n",
    "stack.appendleft('pancake1')\n",
    "stack.appendleft('pancake2')\n",
    "stack.appendleft('pancake3')\n",
    "print(stack)\n",
    "stack.popleft()\n",
    "print(stack)\n",
    "stack.popleft()\n",
    "print(stack)\n",
    "\n",
    "print('\\n')\n",
    "#Queue\n",
    "# first shopper in, first shopper out\n",
    "queue = deque()\n",
    "#Welcome to Aldi, buy some of our La Vie, its tasty\n",
    "queue.appendleft('shopper1')\n",
    "print(queue)\n",
    "queue.appendleft('shopper2')\n",
    "print(queue)\n",
    "queue.appendleft('shopper3')\n",
    "print(queue)\n",
    "queue.appendleft('shopper4')\n",
    "print(queue)\n",
    "\n",
    "print(queue.pop())\n",
    "print(queue)\n",
    "print(queue.pop())\n",
    "print(queue)\n",
    "print(queue.pop())\n",
    "print(queue)\n",
    "\n",
    "\n",
    "\n",
    "\n",
    "\n",
    "\n",
    "\n"
   ]
  },
  {
   "cell_type": "markdown",
   "metadata": {},
   "source": [
    "## Linked List (Data Structure)\n",
    "\n",
    "A linked list is created by using the node class. We create a Node object and create another class to use this node object. We pass the appropriate values thorugh the node object to point the to the next data elements.\n",
    "\n",
    "There are some advantages and disadvantages with this data structure. **Advantages** Linked Lists can save memory because they can be flexibile with memory management which saves memory. **Disadvantages** Finding or adding to the list requires traversing the entire list."
   ]
  },
  {
   "cell_type": "code",
   "execution_count": 10,
   "metadata": {},
   "outputs": [],
   "source": [
    "# A complete implementation of a linked list\n",
    "\n",
    "# 2 components to the structure - 1)Node Class, 2)Linked List Class\n",
    "\n",
    "# Node class\n",
    "class Node():\n",
    "    def __init__(self, value):\n",
    "        self.value = value\n",
    "        self.next = None\n",
    "        \n",
    "# LinkedList class\n",
    "class LinkedList():\n",
    "    def __init__(self):\n",
    "        self.head = None\n",
    "        \n",
    "    # pushOn - place  item at the head (or beginning) of the linked list \n",
    "    def pushOn(self, new_value):\n",
    "        new_node = Node(new_value)\n",
    "        new_node.next = self.head\n",
    "        self.head = new_node\n",
    "        \n",
    "    # insertAfter - place a node after another in the linked list\n",
    "    def insertAfter(self, prev_node, new_value):\n",
    "        # Check if the previous node exists\n",
    "        if prev_node is None:\n",
    "            print(\"The previous node must not be empty.\")\n",
    "            return\n",
    "        # if the prev_node is not empty, we create a new node\n",
    "        new_node = Node(new_value)\n",
    "        \n",
    "        # update the new_node's ext pointer to point to the prev_node's next\n",
    "        new_node.next = prev_node.next\n",
    "        \n",
    "        # update the previous node's next to be the new node\n",
    "        prev_node.next = new_node\n",
    "             \n",
    "    # append(add) a new node to the END of the linked list\n",
    "    def append_(self, new_value):\n",
    "        # Create new node with a new value\n",
    "        new_node = Node(new_value)\n",
    "        \n",
    "        # Check if the linked list is empty\n",
    "        # if it is, make this new node the head node(beginning of the list)\n",
    "        if self.head is None:\n",
    "            self.head = new_node\n",
    "            \n",
    "        # if not epty, traverse our linked list and append to the end\n",
    "        last = self.head\n",
    "        \n",
    "        # Change current last to the new value, and continuously check for an empty next\n",
    "        while last.next:\n",
    "            last = last.next\n",
    "                       \n",
    "        # Change the current last node next value to point to the new value      \n",
    "        last.next = new_node\n",
    "        \n",
    "        \n",
    "    # traverse - move through the linked list\n",
    "    def traverse(self):\n",
    "        temp = self.head\n",
    "        # While temp is not none --> contiue moving through list\n",
    "        while temp:\n",
    "            print(temp.value)\n",
    "            temp = temp.next\n",
    "        print(\"end of list\")\n"
   ]
  },
  {
   "cell_type": "code",
   "execution_count": 13,
   "metadata": {},
   "outputs": [
    {
     "name": "stdout",
     "output_type": "stream",
     "text": [
      "Sunday\n",
      "Monday\n",
      "Tuesday\n",
      "Wednesday\n",
      "Thursday\n",
      "Friday\n",
      "Saturday\n",
      "end of list\n"
     ]
    }
   ],
   "source": [
    "weekdays_list = LinkedList()\n",
    "weekdays_list.pushOn('Monday')\n",
    "# weekdays_list.traverse()\n",
    "weekdays_list.append_('Wednesday')\n",
    "weekdays_list.insertAfter(weekdays_list.head, \"Tuesday\")\n",
    "weekdays_list.append_('Friday')\n",
    "weekdays_list.insertAfter(weekdays_list.head.next.next, \"Thursday\")\n",
    "weekdays_list.pushOn('Sunday')\n",
    "weekdays_list.append_('Saturday')\n",
    "weekdays_list.traverse()\n"
   ]
  },
  {
   "cell_type": "markdown",
   "metadata": {},
   "source": [
    "## Week 4 Day 4 - Create a Linked List\n",
    "\n",
    "Create a linked list to track the months in a year. \n",
    "\n",
    "Create methods to add to the front of the list, add to the back of the list, insert after another value, and traverse to see the available values."
   ]
  },
  {
   "cell_type": "code",
   "execution_count": 25,
   "metadata": {},
   "outputs": [],
   "source": [
    "class Node():\n",
    "    def __init__(self, value):\n",
    "        self.value = value\n",
    "        self.next = None\n",
    "        \n",
    "class LinkedList():\n",
    "    def __init__(self):\n",
    "        self.head = None\n",
    "        \n",
    "    def add_front(self, new_value):\n",
    "        new_node = Node(new_value)\n",
    "        new_node.next = self.head\n",
    "        self.head = new_node\n",
    "        \n",
    "    def insert_val(self, prev_node, new_value):\n",
    "        if prev_node is None:\n",
    "            print(\"The given previous node must not be empty\")\n",
    "            return\n",
    "        new_node = Node(new_value)\n",
    "        new_node.next = prev_node.next\n",
    "        prev_node.next = new_node\n",
    "        \n",
    "    def add_back(self, new_value):\n",
    "        new_node = Node(new_value)\n",
    "        if self.head is None:\n",
    "            self.head = new_node\n",
    "        last = self.head\n",
    "        while last.next:\n",
    "            last = last.next\n",
    "        last.next = new_node\n",
    "        \n",
    "    def traverse(self):\n",
    "        temp = self.head\n",
    "        while temp:\n",
    "            print(temp.value)\n",
    "            temp = temp.next\n",
    "        \n",
    "        \n",
    "        "
   ]
  },
  {
   "cell_type": "code",
   "execution_count": 29,
   "metadata": {},
   "outputs": [
    {
     "name": "stdout",
     "output_type": "stream",
     "text": [
      "Jan\n",
      "Feb\n",
      "Mar\n",
      "Apr\n",
      "May\n",
      "June\n",
      "July\n",
      "Aug\n",
      "Sep\n",
      "Oct\n",
      "Nov\n",
      "Dec\n"
     ]
    }
   ],
   "source": [
    "month_tracker = LinkedList()\n",
    "month_tracker.add_front('Feb')\n",
    "month_tracker.add_back('Mar')\n",
    "month_tracker.add_front('Jan')\n",
    "month_tracker.add_back('May')\n",
    "month_tracker.insert_val(month_tracker.head.next.next, \"Apr\")\n",
    "month_tracker.add_back('June')\n",
    "month_tracker.add_back('Aug')\n",
    "month_tracker.insert_val(month_tracker.head.next.next.next.next.next, \"July\")\n",
    "month_tracker.add_back('Sep')\n",
    "month_tracker.add_back('Oct')\n",
    "month_tracker.add_back('Dec')\n",
    "month_tracker.insert_val(month_tracker.head.next.next.next.next.next.next.next.next.next, \"Nov\")\n",
    "month_tracker.traverse()"
   ]
  },
  {
   "cell_type": "markdown",
   "metadata": {},
   "source": [
    "Also Complete this problem with an optimized solution:\n",
    "https://www.codewars.com/kata/54d81488b981293527000c8f/train/python"
   ]
  },
  {
   "cell_type": "code",
   "execution_count": null,
   "metadata": {},
   "outputs": [],
   "source": [
    "def sum_pairs(ints, s):\n",
    "    test_dict = {}\n",
    "    \n",
    "    for i in ints:\n",
    "        if i in test_dict:\n",
    "            return [s-i, i]\n",
    "        else:\n",
    "            test_dict[s - i] = i\n",
    "\n",
    "    return None\n"
   ]
  }
 ],
 "metadata": {
  "kernelspec": {
   "display_name": "Python 3 (ipykernel)",
   "language": "python",
   "name": "python3"
  },
  "language_info": {
   "codemirror_mode": {
    "name": "ipython",
    "version": 3
   },
   "file_extension": ".py",
   "mimetype": "text/x-python",
   "name": "python",
   "nbconvert_exporter": "python",
   "pygments_lexer": "ipython3",
   "version": "3.11.1"
  }
 },
 "nbformat": 4,
 "nbformat_minor": 2
}
